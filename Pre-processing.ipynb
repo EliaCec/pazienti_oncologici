{
 "cells": [
  {
   "cell_type": "markdown",
   "id": "a3cdf031",
   "metadata": {},
   "source": [
    "# PRE-PROCESSING:"
   ]
  },
  {
   "cell_type": "code",
   "execution_count": 43,
   "id": "5a79ee35",
   "metadata": {},
   "outputs": [],
   "source": [
    "import numpy as np\n",
    "import pandas as pd\n",
    "from sklearn.preprocessing import OneHotEncoder, MinMaxScaler"
   ]
  },
  {
   "cell_type": "code",
   "execution_count": 44,
   "id": "2dde4bf8",
   "metadata": {},
   "outputs": [],
   "source": [
    "def importa_dati(path, sep=','):\n",
    "    \"\"\"Funzione per l'importazione di un dataset con un formato csv in un DataFrame di Pandas.\n",
    "       - path: percorso in cui è salvato il file.csv (stringa);\n",
    "       - sep: separatore utilizzato nel file (stringa)\"\"\"\n",
    "    data = pd.read_csv(path, sep=sep)\n",
    "    data.drop('Unnamed: 0', axis=1, inplace=True)\n",
    "    return data"
   ]
  },
  {
   "cell_type": "code",
   "execution_count": 45,
   "id": "b847e996",
   "metadata": {},
   "outputs": [],
   "source": [
    "# nome dataset da importare\n",
    "df_name = 'bin'\n",
    "# tipo di pre-processing\n",
    "pre_type = 'le'\n",
    "\n",
    "df = importa_dati('/Users/eliaceccolini/Documents/Uni/Tesi/Dataset_finale/Datasets/'+df_name+'.csv')\n",
    "\n",
    "# nome nuovo dataset da esportare\n",
    "export_name = df_name+'_'+pre_type"
   ]
  },
  {
   "cell_type": "markdown",
   "id": "ded741a8",
   "metadata": {},
   "source": [
    "***\n",
    "### Funzione per categorizzare il dataset"
   ]
  },
  {
   "cell_type": "code",
   "execution_count": 46,
   "id": "efa946df",
   "metadata": {},
   "outputs": [],
   "source": [
    "def categorizza(data, ranges):\n",
    "    \"\"\"Funzione per categorizzare le variabili numeriche continue del dataset.\n",
    "       - data: dataset (DataFrame)\n",
    "       - ranges: intervalli per ogni paziente per categorizzare i valori dei prelievi \"\"\"\n",
    "    \n",
    "    # colonne da dividere in categorie\n",
    "    cols_bmi = ['somm'+str(i)+'_BMI' for i in range(1,7)]\n",
    "    cols_val = []\n",
    "    for n in ['creatinina', 'creatinina2', 'glucosio', 'emoglobina']:\n",
    "        cols_val = cols_val + ['somm'+str(i)+'_'+n for i in range(1,7)]\n",
    "\n",
    "    # divisione categorie BMI\n",
    "    for col in cols_bmi:\n",
    "        for i in range(data.shape[0]):\n",
    "            if data.loc[(i, col)] <= 18.4:\n",
    "                data.loc[(i, col)] = 'sottopeso'\n",
    "            elif data.loc[(i, col)] <= 24.9:\n",
    "                data.loc[(i, col)] = 'normo-peso'\n",
    "            elif data.loc[(i, col)] <= 29.9:\n",
    "                data.loc[(i, col)] = 'sovrappeso'\n",
    "            else:\n",
    "                data.loc[(i, col)] = 'obeso'\n",
    "            \n",
    "    # divisione categorie valori prelievi\n",
    "    for i,col in enumerate(cols_val):\n",
    "        curr = ranges[i]\n",
    "        for i in range(data.shape[0]):\n",
    "            if (data.loc[(i, col)] < curr[i,0]):\n",
    "                data.loc[(i, col)] = 'underRange'\n",
    "            elif (data.loc[(i, col)] > curr[i,1]):\n",
    "                data.loc[(i, col)] = 'overRange'\n",
    "            else:\n",
    "                data.loc[(i, col)] = 'inRange'"
   ]
  },
  {
   "cell_type": "markdown",
   "id": "9857a652",
   "metadata": {},
   "source": [
    "***\n",
    "### Funzione per normalizzare il dataset"
   ]
  },
  {
   "cell_type": "code",
   "execution_count": 47,
   "id": "f7f344a0",
   "metadata": {},
   "outputs": [],
   "source": [
    "def normalizza(data):\n",
    "    \"\"\"Funzione per normalizzare le variabili numeriche continue del dataset.\n",
    "       - data: dataset (DataFrame)\"\"\"\n",
    "    \n",
    "    # nomi colonne da normalizzare\n",
    "    cols_bmi = ['somm'+str(i)+'_BMI' for i in range(1,7)]\n",
    "    name_cols_val = ['creatinina', 'creatinina2', 'glucosio', 'emoglobina']\n",
    "    cols_val = []\n",
    "    for n in name_cols_val:\n",
    "        cols_val = cols_val + ['somm'+str(i)+'_'+n for i in range(1,7)]\n",
    "    cols = cols_bmi + cols_val\n",
    "    \n",
    "    scaler = MinMaxScaler()\n",
    "    data[cols] = pd.DataFrame(scaler.fit_transform(X=data[cols]), dtype=float)"
   ]
  },
  {
   "cell_type": "markdown",
   "id": "22e659f3",
   "metadata": {},
   "source": [
    "***\n",
    "### Trasformazione dei dati categoriali:"
   ]
  },
  {
   "cell_type": "code",
   "execution_count": 48,
   "id": "936e23d9",
   "metadata": {},
   "outputs": [],
   "source": [
    "def applica_OHE(data, cols):\n",
    "    \"\"\"Funzione per trasformare le colonne in tipo categoriale codificandole tramite OHE.\n",
    "       - data: dataset (DataFrame)\n",
    "       - cols: nome colonne da trasformare (lista di String) \"\"\"\n",
    "    \n",
    "    # creazione One Hot Encoder\n",
    "    OHenc = OneHotEncoder(handle_unknown='ignore', sparse_output=False, feature_name_combiner='concat')\n",
    "    \n",
    "    # applicazione OHE\n",
    "    new_cat_data = pd.DataFrame(OHenc.fit_transform(data[cols]), dtype=int)\n",
    "    new_cat_data.columns = OHenc.get_feature_names_out()\n",
    "    new_cat_data['index'] = new_cat_data.index\n",
    "    data.drop(cols, axis=1, inplace=True)\n",
    "    data['index'] = data.index\n",
    "    new_data = pd.merge(data, new_cat_data, on='index')\n",
    "    new_data.drop('index', axis=1, inplace=True)\n",
    "    #null_cols = [col for col in new_data.columns if 'nan' in col]\n",
    "    #new_data.drop(null_cols, axis=1, inplace=True)\n",
    "    \n",
    "    return new_data"
   ]
  },
  {
   "cell_type": "code",
   "execution_count": 49,
   "id": "8467edd2",
   "metadata": {},
   "outputs": [],
   "source": [
    "def applica_LE(data, cols):\n",
    "    \"\"\"Funzione per trasformare le colonne in tipo categoriale codificandole tramite LE.\n",
    "       - data: dataset (DataFrame)\n",
    "       - cols: nome colonne da trasformare (lista di String) \"\"\"\n",
    "    \n",
    "    for col in cols:\n",
    "        data[col] = data[col].astype('category').cat.codes\n",
    "    return data"
   ]
  },
  {
   "cell_type": "code",
   "execution_count": 50,
   "id": "b21c902d",
   "metadata": {},
   "outputs": [],
   "source": [
    "def trasforma_categoriali(data, t, cat=False, ranges=None, norm=False):\n",
    "    \"\"\"Funzione per trasformare le colonne in tipo categoriale codificandole tramite OHE.\n",
    "       - data: dataset (DataFrame)\n",
    "       - t: tipo di trasformazione (String - o=ohe, l=le)\n",
    "       - cat: valore che indica se categorizzare le variabili numeriche continue (Boolean)\n",
    "       - ranges: intervalli per categorizzare i valori dei prelievi (array)\n",
    "       - norm: valore che indica se normalizzare le variabili numeriche continue (Boolean) \"\"\"\n",
    "    \n",
    "    # restituzione errore se sono True sia la categorizzazione che la normalizzazione\n",
    "    if cat and norm:\n",
    "        raise Exception(\"Errore! E' possibile applicare solamente una tra la categorizzazione e la normalizzazione.\")\n",
    "        \n",
    "    # elenco nome colonne categoriali\n",
    "    cols_cat = ['sesso', 'consumatore_alcool', 'fumatore', 'gruppo_patologia', 'classe_eta', 'classi_principi_attivi', 't', 'n', 'm']\n",
    "    sympt_names = ['fatigue', 'pain', 'nausea', 'diarrea']\n",
    "    cols_sympt = []\n",
    "    for name in sympt_names:\n",
    "        cols_sympt = cols_sympt + ['somm'+str(i)+'_'+name for i in range(1, 7)]\n",
    "    cols_cat = cols_cat + cols_sympt\n",
    "        \n",
    "    # categorizzazione BMI e valori prelievi se sono da categorizzare la var numeriche continue\n",
    "    if cat:\n",
    "        categorizza(data, ranges)\n",
    "        cols_bmi = ['somm'+str(i)+'_BMI' for i in range(1,7)]\n",
    "        values_names = ['creatinina', 'creatinina2', 'glucosio', 'emoglobina']\n",
    "        cols_val = []\n",
    "        for n in values_names:\n",
    "            cols_val = cols_val + ['somm'+str(i)+'_'+n for i in range(1,7)]\n",
    "        cols_cat = cols_cat + cols_bmi + cols_val\n",
    "        \n",
    "    # normalizzazione del BMI e valori prelievi se sono da normalizzare le var numeriche continue\n",
    "    if norm:\n",
    "        normalizza(data)\n",
    "    \n",
    "    if t == 'o':\n",
    "        new_data = applica_OHE(data, cols_cat)\n",
    "    else:\n",
    "        new_data = applica_LE(data, cols_cat)\n",
    "    \n",
    "    return new_data, set(data.columns) - set(cols_cat) - set(['index'])"
   ]
  },
  {
   "cell_type": "code",
   "execution_count": 51,
   "id": "dba19d0d",
   "metadata": {},
   "outputs": [],
   "source": [
    "df, cols_num = trasforma_categoriali(df, 'l')"
   ]
  },
  {
   "cell_type": "markdown",
   "id": "33c5cc34",
   "metadata": {},
   "source": [
    "***\n",
    "### Creazione valori prelievi"
   ]
  },
  {
   "cell_type": "code",
   "execution_count": 52,
   "id": "c85ed012",
   "metadata": {},
   "outputs": [],
   "source": [
    "def crea_valori(data, col):\n",
    "    \"\"\"Funzione per sostiruire le stringhe nei valori dei prelievi con il valore corretto.\n",
    "       - data: dataset (DataFrame)\n",
    "       - cols: nome colonna da elaborare (String) \"\"\"\n",
    "    \n",
    "    # allocazione memoria per salvare gli estremi di tutti gli intervalli\n",
    "    ranges = np.zeros((data.shape[0], 2))\n",
    "    \n",
    "    data[col] = [str(n).replace(\",\", \".\") for n in data[col]]\n",
    "    \n",
    "    for i in range(data.shape[0]):\n",
    "        if data.loc[(i, col)] != str(np.nan):\n",
    "            l = data.loc[(i, col)].split(' ')\n",
    "            try:\n",
    "                val = float(l[0])\n",
    "                minR = float(l[2].replace('(', ''))\n",
    "                maxR = float(l[4].replace(')', ''))\n",
    "            except ValueError:\n",
    "                val = np.nan\n",
    "            data.loc[(i, col)] = val\n",
    "            ranges[i] = [minR, maxR]\n",
    "    \n",
    "    data[col] = [float(p) for p in data[col]]\n",
    "    mean = np.mean(data[col].dropna())\n",
    "    \n",
    "    return ranges"
   ]
  },
  {
   "cell_type": "code",
   "execution_count": 53,
   "id": "2f654170",
   "metadata": {},
   "outputs": [],
   "source": [
    "# elenco nomi colonne\n",
    "name_cols = ['creatinina', 'creatinina2', 'glucosio', 'emoglobina']\n",
    "cols = []\n",
    "for n in name_cols:\n",
    "    cols = cols + ['somm'+str(i)+'_'+n for i in range(1,7)]\n",
    "\n",
    "# allocazione memoria dei range\n",
    "ranges = np.zeros((len(cols)), dtype=np.ndarray)\n",
    "\n",
    "# creazione valori\n",
    "for i,col in enumerate(cols):\n",
    "    r = crea_valori(df, col)\n",
    "    ranges[i] = r"
   ]
  },
  {
   "cell_type": "markdown",
   "id": "b3a9a6b6",
   "metadata": {},
   "source": [
    "***\n",
    "### Sostituzione del peso e dell'altezza con BMI:"
   ]
  },
  {
   "cell_type": "code",
   "execution_count": 54,
   "id": "b518954e",
   "metadata": {},
   "outputs": [],
   "source": [
    "def calcola_BMI(data, colonna_peso, colonna_alt, nome_colonna_bmi):\n",
    "    \"\"\"Funzione per il calcolo del BMI. Inoltre le colonne di peso e altezza verranno sostituite da questo valore.\n",
    "       - data: dataset (DataFrame)\n",
    "       - colonna_peso: nome colonna peso (string)\n",
    "       - colonna_alt: nome colonna altezza (string)\n",
    "       - nome_colonna_bmi: nome nuova colonna\"\"\"\n",
    "    data[colonna_peso] = [float((p.replace(\",\", \".\"))) if not isinstance(p, float) else p for p in data[colonna_peso]]\n",
    "    data[colonna_alt] = [float(p) if not isinstance(p, float) else p for p in data[colonna_alt]]\n",
    "    data[nome_colonna_bmi] = data[colonna_peso] / ((data[colonna_alt] / 100) ** 2)\n",
    "    data[nome_colonna_bmi] = [float(bmi) for bmi in data[nome_colonna_bmi]]\n",
    "    data.drop(colonna_peso, axis=1, inplace=True)\n",
    "    data.drop(colonna_alt, axis=1, inplace=True)\n",
    "    \n",
    "    return data"
   ]
  },
  {
   "cell_type": "code",
   "execution_count": 55,
   "id": "994328bf",
   "metadata": {},
   "outputs": [],
   "source": [
    "cols_peso = ['somm'+str(i)+'_peso' for i in range(1,7)]\n",
    "cols_altezza = ['somm'+str(i)+'_altezza' for i in range(1,7)]\n",
    "for i in range(len(cols_peso)):\n",
    "    df = calcola_BMI(df, cols_peso[i], cols_altezza[i], 'somm'+str(i+1)+'_BMI')"
   ]
  },
  {
   "cell_type": "code",
   "execution_count": 56,
   "id": "4ab8b338",
   "metadata": {},
   "outputs": [],
   "source": [
    "cols_pes = ['somm'+str(i)+'_peso' for i in range(1,7)]\n",
    "cols_alt = ['somm'+str(i)+'_altezza' for i in range(1,7)]\n",
    "cols_num = set(cols_num) - set(cols_pes+cols_alt)"
   ]
  },
  {
   "cell_type": "markdown",
   "id": "9f183ee1",
   "metadata": {},
   "source": [
    "***\n",
    "### Gestione dati numerici nulli"
   ]
  },
  {
   "cell_type": "code",
   "execution_count": 57,
   "id": "64ab7948",
   "metadata": {},
   "outputs": [],
   "source": [
    "for col in cols_num:\n",
    "    df[col] = [float(p) for p in df[col]]\n",
    "    mean = np.mean(df[col].dropna())\n",
    "    df.fillna(mean, inplace=True)"
   ]
  },
  {
   "cell_type": "code",
   "execution_count": 58,
   "id": "e13d8952",
   "metadata": {},
   "outputs": [
    {
     "data": {
      "text/plain": [
       "[]"
      ]
     },
     "execution_count": 58,
     "metadata": {},
     "output_type": "execute_result"
    }
   ],
   "source": [
    "cols_null = [col for col in df.columns if df[col].isnull().sum() > 0]\n",
    "cols_null"
   ]
  },
  {
   "cell_type": "markdown",
   "id": "e12a444c",
   "metadata": {},
   "source": [
    "***\n",
    "### Rimozione colonne relative alle somministrazioni ad eccezione di quella del primo BMI"
   ]
  },
  {
   "cell_type": "code",
   "execution_count": 59,
   "id": "7b43230a",
   "metadata": {},
   "outputs": [],
   "source": [
    "# rimozione OPZIONALE delle colonne relative alle somministrazioni\n",
    "cols = [col for col in df.columns if 'somm' in col]\n",
    "cols = set(cols) - set(['somm1_bmi'])\n",
    "#df.drop(cols, axis=1, inplace=True)"
   ]
  },
  {
   "cell_type": "markdown",
   "id": "f38f0d50",
   "metadata": {},
   "source": [
    "***\n",
    "### Rimozione degli outlier"
   ]
  },
  {
   "cell_type": "code",
   "execution_count": 60,
   "id": "0dfc2993",
   "metadata": {},
   "outputs": [
    {
     "data": {
      "text/plain": [
       "(312, 76)"
      ]
     },
     "execution_count": 60,
     "metadata": {},
     "output_type": "execute_result"
    }
   ],
   "source": [
    "threshold = 3\n",
    "outliers_index = []\n",
    "tot_sum = 0\n",
    "count = 0\n",
    "for col in cols_num:\n",
    "    df[col] = [float(p) for p in df[col]]\n",
    "    mean = np.mean(df[col])\n",
    "    std = np.std(df[col])\n",
    "    for i,x in enumerate(df[col]):\n",
    "        z = (x - mean) / std\n",
    "        if np.abs(z) > threshold:\n",
    "            outliers_index.append(i)\n",
    "\n",
    "df.drop(outliers_index, inplace=True)\n",
    "df.shape"
   ]
  },
  {
   "cell_type": "markdown",
   "id": "116662b5",
   "metadata": {},
   "source": [
    "***\n",
    "### Esportazione dei dati:"
   ]
  },
  {
   "cell_type": "code",
   "execution_count": 61,
   "id": "cbc7ec26",
   "metadata": {},
   "outputs": [],
   "source": [
    "def esporta_dati(data, path):\n",
    "    \"\"\"Funzione per il salvataggio del dataset in un file csv.\n",
    "       - data: dataset (DataFrame)\n",
    "       - path: percorso in cui salvare i dati \"\"\" \n",
    "    data.to_csv(path)"
   ]
  },
  {
   "cell_type": "code",
   "execution_count": 62,
   "id": "b83a9c69",
   "metadata": {},
   "outputs": [],
   "source": [
    "esporta_dati(df, '/Users/eliaceccolini/Documents/Uni/Tesi/Dataset_finale/Datasets/'+export_name+'.csv')"
   ]
  }
 ],
 "metadata": {
  "kernelspec": {
   "display_name": "Python 3 (ipykernel)",
   "language": "python",
   "name": "python3"
  },
  "language_info": {
   "codemirror_mode": {
    "name": "ipython",
    "version": 3
   },
   "file_extension": ".py",
   "mimetype": "text/x-python",
   "name": "python",
   "nbconvert_exporter": "python",
   "pygments_lexer": "ipython3",
   "version": "3.9.10"
  }
 },
 "nbformat": 4,
 "nbformat_minor": 5
}
