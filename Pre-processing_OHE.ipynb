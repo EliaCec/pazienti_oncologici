{
 "cells": [
  {
   "cell_type": "markdown",
   "id": "a3cdf031",
   "metadata": {},
   "source": [
    "# PRE-PROCESSING:"
   ]
  },
  {
   "cell_type": "code",
   "execution_count": 4,
   "id": "5a79ee35",
   "metadata": {},
   "outputs": [],
   "source": [
    "import numpy as np\n",
    "import pandas as pd\n",
    "from matplotlib import pyplot as plt\n",
    "from sklearn.preprocessing import LabelEncoder, OneHotEncoder"
   ]
  },
  {
   "cell_type": "code",
   "execution_count": 5,
   "id": "2dde4bf8",
   "metadata": {},
   "outputs": [],
   "source": [
    "def importa_dati(path, sep=','):\n",
    "    \"\"\"Funzione per l'importazione di un dataset con un formato csv in un DataFrame di Pandas.\n",
    "       - path: percorso in cui è salvato il file.csv (stringa);\n",
    "       - sep: separatore utilizzato nel file (stringa)\"\"\"\n",
    "    data = pd.read_csv(path, sep=sep)\n",
    "    data.drop('Unnamed: 0', axis=1, inplace=True)\n",
    "    return data"
   ]
  },
  {
   "cell_type": "code",
   "execution_count": 6,
   "id": "b847e996",
   "metadata": {},
   "outputs": [],
   "source": [
    "# importazione dataset multiclasse\n",
    "#df = importa_dati('/Users/eliaceccolini/Documents/Uni/Tesi/Dataset_finale/Datasets/Dataset_analizzato_multiclasse.csv')\n",
    "# importazione dataset binario\n",
    "df = importa_dati('/Users/eliaceccolini/Documents/Uni/Tesi/Dataset_finale/Datasets/Dataset_analizzato_binario.csv')"
   ]
  },
  {
   "cell_type": "markdown",
   "id": "b3a9a6b6",
   "metadata": {},
   "source": [
    "***\n",
    "### Sostituzione del peso con BMI:"
   ]
  },
  {
   "cell_type": "code",
   "execution_count": 7,
   "id": "b518954e",
   "metadata": {},
   "outputs": [],
   "source": [
    "def calcola_BMI(data, colonna_peso, colonna_alt, nome_colonna_bmi):\n",
    "    \"\"\"Funzione per il calcolo del BMI. Inoltre le colonne di peso e altezza verranno sostituite da questo valore.\n",
    "       - data: dataset (DataFrame)\n",
    "       - colonna_peso: nome colonna peso (string)\n",
    "       - colonna_alt: nome colonna altezza (string)\n",
    "       - nome_colonna_bmi: nome nuova colonna\"\"\"\n",
    "    data[colonna_peso] = [float((p.replace(\",\", \".\"))) if not isinstance(p, float) else p for p in data[colonna_peso]]\n",
    "    data[colonna_alt] = [float(p) if not isinstance(p, float) else p for p in data[colonna_alt]]\n",
    "    data[nome_colonna_bmi] = round(data[colonna_peso] / ((data[colonna_alt] / 100) ** 2), 2)\n",
    "    data.drop(colonna_peso, axis=1, inplace=True)\n",
    "    data.drop(colonna_alt, axis=1, inplace=True)"
   ]
  },
  {
   "cell_type": "code",
   "execution_count": 8,
   "id": "994328bf",
   "metadata": {},
   "outputs": [],
   "source": [
    "cols_peso = ['somm1_peso', 'somm2_peso', 'somm3_peso', 'somm4_peso', 'somm5_peso', 'somm6_peso']\n",
    "cols_altezza = ['somm1_altezza', 'somm2_altezza', 'somm3_altezza', 'somm4_altezza', 'somm5_altezza', 'somm6_altezza']\n",
    "num_somm = ['1', '2', '3', '4', '5', '6']\n",
    "for i in range(len(num_somm)):\n",
    "    calcola_BMI(df, cols_peso[i], cols_altezza[i], 'somm'+num_somm[i]+'_BMI')"
   ]
  },
  {
   "cell_type": "markdown",
   "id": "22e659f3",
   "metadata": {},
   "source": [
    "***\n",
    "### Trasformazione dei dati categoriali utilizzando la tecnica del One Hot Encoding:"
   ]
  },
  {
   "cell_type": "code",
   "execution_count": 9,
   "id": "9f3a457c",
   "metadata": {},
   "outputs": [],
   "source": [
    "def trasforma_categoriali_OHE(data):\n",
    "    \"\"\"Funzione per trasformare le colonne in tipo categoriale codificandole tramite OHE.\n",
    "       - data: dataset (DataFrame)\"\"\"\n",
    "    values_names = ['creatinina', 'creatinina2', 'glucosio', 'emoglobina']\n",
    "    sympt_names = ['fatigue', 'pain', 'nausea', 'diarrea']\n",
    "    cols_values = []\n",
    "    cols_sympt = []\n",
    "    for name in values_names:\n",
    "        cols_values = cols_values + ['somm'+str(i)+'_'+name for i in range(1, 7)]\n",
    "    for name in sympt_names:\n",
    "        cols_sympt = cols_sympt + ['somm'+str(i)+'_'+name for i in range(1, 7)]\n",
    "    cols_cat = ['sesso', 'consumatore_alcool', 'fumatore', 'gruppo_patologia', 'Patologia', 'classe_eta', 'classi_principi_attivi', 't', 'n', 'm']\n",
    "    cols_cat = cols_values + cols_cat\n",
    "    cols_cat = cols_sympt + cols_cat\n",
    "    cols_num = list(set(data.columns) - set(cols_cat))\n",
    "    \n",
    "    OHenc = OneHotEncoder(handle_unknown='ignore', sparse_output=False)\n",
    "    new_cat_data = pd.DataFrame(OHenc.fit_transform(data[cols_cat]), dtype=int)\n",
    "    new_cat_data['index'] = new_cat_data.index\n",
    "    data.drop(cols_cat, axis=1, inplace=True)\n",
    "    data['index'] = data.index\n",
    "    new_data = pd.merge(data, new_cat_data, on='index')\n",
    "    new_data.drop('index', axis=1)\n",
    "    return new_data"
   ]
  },
  {
   "cell_type": "code",
   "execution_count": 10,
   "id": "dba19d0d",
   "metadata": {},
   "outputs": [],
   "source": [
    "# utilizzando OHE\n",
    "df = trasforma_categoriali_OHE(df)\n",
    "#df.shape"
   ]
  },
  {
   "cell_type": "markdown",
   "id": "116662b5",
   "metadata": {},
   "source": [
    "***\n",
    "### Esportazione dei dati:"
   ]
  },
  {
   "cell_type": "code",
   "execution_count": 11,
   "id": "cbc7ec26",
   "metadata": {},
   "outputs": [],
   "source": [
    "def esporta_dati(data, path):\n",
    "    \"\"\"Funzione per il salvataggio del dataset in un file csv.\n",
    "       - data: dataset (DataFrame)\n",
    "       - path: percorso in cui salvare i dati\"\"\" \n",
    "    data.to_csv(path)"
   ]
  },
  {
   "cell_type": "code",
   "execution_count": 12,
   "id": "b83a9c69",
   "metadata": {},
   "outputs": [],
   "source": [
    "esporta_dati(df, '/Users/eliaceccolini/Documents/Uni/Tesi/Dataset_finale/Datasets/Dataset_preprocessato_OHE.csv')"
   ]
  }
 ],
 "metadata": {
  "kernelspec": {
   "display_name": "Python 3 (ipykernel)",
   "language": "python",
   "name": "python3"
  },
  "language_info": {
   "codemirror_mode": {
    "name": "ipython",
    "version": 3
   },
   "file_extension": ".py",
   "mimetype": "text/x-python",
   "name": "python",
   "nbconvert_exporter": "python",
   "pygments_lexer": "ipython3",
   "version": "3.9.10"
  }
 },
 "nbformat": 4,
 "nbformat_minor": 5
}
